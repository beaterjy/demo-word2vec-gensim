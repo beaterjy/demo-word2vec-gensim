{
<<<<<<< HEAD
 "cells": [
  {
   "cell_type": "markdown",
   "metadata": {
    "colab_type": "text",
    "id": "view-in-github"
   },
   "source": [
    "<a href=\"https://colab.research.google.com/github/beaterjy/demo-word2vec-gensim/blob/master/demo_word2vec_gensim.ipynb\" target=\"_parent\"><img src=\"https://colab.research.google.com/assets/colab-badge.svg\" alt=\"Open In Colab\"/></a>"
   ]
  },
  {
   "cell_type": "code",
   "execution_count": 1,
   "metadata": {
    "colab": {},
    "colab_type": "code",
    "id": "DlIvM_hYgT-U"
   },
   "outputs": [],
   "source": [
    "import pandas as pd\n",
    "import numpy as np\n",
    "import jieba\n",
    "import multiprocessing\n",
    "from gensim.models import Word2Vec\n",
    "from gensim.models.word2vec import LineSentence\n",
    "from gensim.models import KeyedVectors"
   ]
  },
  {
   "cell_type": "code",
   "execution_count": 2,
   "metadata": {},
   "outputs": [
    {
     "data": {
      "text/plain": [
       "'F:\\\\Works\\\\Jupyter_works\\\\demo-word2vec-gensim'"
      ]
     },
     "execution_count": 2,
     "metadata": {},
     "output_type": "execute_result"
    }
   ],
   "source": [
    "pwd"
   ]
  },
  {
   "cell_type": "code",
   "execution_count": 3,
   "metadata": {
    "colab": {
     "base_uri": "https://localhost:8080/",
     "height": 51
    },
    "colab_type": "code",
    "id": "Rx_7-PZ_fv1U",
    "outputId": "cd4db594-52f8-4436-cef1-bd8dcf072817"
   },
   "outputs": [
    {
     "name": "stdout",
     "output_type": "stream",
     "text": [
      "(1922, 8)\n",
      "(129672, 6)\n"
     ]
    }
   ],
   "source": [
    "prefix = ''\n",
    "data = pd.read_excel(prefix + 'training_data_v2_4.xlsx')\n",
    "data_z = pd.read_excel(prefix + 'multi_Z.xlsx')\n",
    "print(data.shape)\n",
    "print(data_z.shape)\n",
    "data_z['phrase'] = data_z['verb'].str.cat(data_z['noun_without_bracket'], sep=' ')\n"
   ]
  },
  {
   "cell_type": "code",
   "execution_count": 4,
   "metadata": {
    "colab": {
     "base_uri": "https://localhost:8080/"
    },
    "colab_type": "code",
    "id": "xyVtO52ZgRem",
    "outputId": "648075c5-a5d9-4160-e65a-87ce163e3ed7"
   },
   "outputs": [
    {
     "data": {
      "text/html": [
       "<div>\n",
       "<style scoped>\n",
       "    .dataframe tbody tr th:only-of-type {\n",
       "        vertical-align: middle;\n",
       "    }\n",
       "\n",
       "    .dataframe tbody tr th {\n",
       "        vertical-align: top;\n",
       "    }\n",
       "\n",
       "    .dataframe thead th {\n",
       "        text-align: right;\n",
       "    }\n",
       "</style>\n",
       "<table border=\"1\" class=\"dataframe\">\n",
       "  <thead>\n",
       "    <tr style=\"text-align: right;\">\n",
       "      <th></th>\n",
       "      <th>门类</th>\n",
       "      <th>门类编号</th>\n",
       "      <th>大类</th>\n",
       "      <th>词组</th>\n",
       "      <th>动词</th>\n",
       "      <th>名词</th>\n",
       "      <th>大类编号</th>\n",
       "      <th>子类编号</th>\n",
       "    </tr>\n",
       "  </thead>\n",
       "  <tbody>\n",
       "    <tr>\n",
       "      <th>0</th>\n",
       "      <td>农、林、牧、渔业</td>\n",
       "      <td>A</td>\n",
       "      <td>农业</td>\n",
       "      <td>谷物种植</td>\n",
       "      <td>种植</td>\n",
       "      <td>谷物</td>\n",
       "      <td>1</td>\n",
       "      <td>11</td>\n",
       "    </tr>\n",
       "    <tr>\n",
       "      <th>1</th>\n",
       "      <td>农、林、牧、渔业</td>\n",
       "      <td>A</td>\n",
       "      <td>农业</td>\n",
       "      <td>稻谷种植</td>\n",
       "      <td>种植</td>\n",
       "      <td>稻谷</td>\n",
       "      <td>1</td>\n",
       "      <td>111</td>\n",
       "    </tr>\n",
       "    <tr>\n",
       "      <th>2</th>\n",
       "      <td>农、林、牧、渔业</td>\n",
       "      <td>A</td>\n",
       "      <td>农业</td>\n",
       "      <td>小麦种植</td>\n",
       "      <td>种植</td>\n",
       "      <td>小麦</td>\n",
       "      <td>1</td>\n",
       "      <td>112</td>\n",
       "    </tr>\n",
       "    <tr>\n",
       "      <th>3</th>\n",
       "      <td>农、林、牧、渔业</td>\n",
       "      <td>A</td>\n",
       "      <td>农业</td>\n",
       "      <td>玉米种植</td>\n",
       "      <td>种植</td>\n",
       "      <td>玉米</td>\n",
       "      <td>1</td>\n",
       "      <td>113</td>\n",
       "    </tr>\n",
       "    <tr>\n",
       "      <th>4</th>\n",
       "      <td>农、林、牧、渔业</td>\n",
       "      <td>A</td>\n",
       "      <td>农业</td>\n",
       "      <td>其他谷物种植</td>\n",
       "      <td>种植</td>\n",
       "      <td>其他谷物</td>\n",
       "      <td>1</td>\n",
       "      <td>119</td>\n",
       "    </tr>\n",
       "  </tbody>\n",
       "</table>\n",
       "</div>"
      ],
      "text/plain": [
       "         门类 门类编号  大类      词组  动词    名词  大类编号  子类编号\n",
       "0  农、林、牧、渔业    A  农业    谷物种植  种植    谷物     1    11\n",
       "1  农、林、牧、渔业    A  农业    稻谷种植  种植    稻谷     1   111\n",
       "2  农、林、牧、渔业    A  农业    小麦种植  种植    小麦     1   112\n",
       "3  农、林、牧、渔业    A  农业    玉米种植  种植    玉米     1   113\n",
       "4  农、林、牧、渔业    A  农业  其他谷物种植  种植  其他谷物     1   119"
      ]
     },
     "execution_count": 4,
     "metadata": {},
     "output_type": "execute_result"
    }
   ],
   "source": [
    "data.head()"
   ]
  },
  {
   "cell_type": "code",
   "execution_count": 5,
   "metadata": {
    "colab": {
     "base_uri": "https://localhost:8080/"
    },
    "colab_type": "code",
    "id": "co17upYKg5XU",
    "outputId": "f24f307c-a237-4379-d68e-4ebe874374a9"
   },
   "outputs": [
    {
     "data": {
      "text/html": [
       "<div>\n",
       "<style scoped>\n",
       "    .dataframe tbody tr th:only-of-type {\n",
       "        vertical-align: middle;\n",
       "    }\n",
       "\n",
       "    .dataframe tbody tr th {\n",
       "        vertical-align: top;\n",
       "    }\n",
       "\n",
       "    .dataframe thead th {\n",
       "        text-align: right;\n",
       "    }\n",
       "</style>\n",
       "<table border=\"1\" class=\"dataframe\">\n",
       "  <thead>\n",
       "    <tr style=\"text-align: right;\">\n",
       "      <th></th>\n",
       "      <th>Unnamed: 0</th>\n",
       "      <th>level</th>\n",
       "      <th>zch</th>\n",
       "      <th>verb</th>\n",
       "      <th>noun</th>\n",
       "      <th>noun_without_bracket</th>\n",
       "      <th>phrase</th>\n",
       "    </tr>\n",
       "  </thead>\n",
       "  <tbody>\n",
       "    <tr>\n",
       "      <th>0</th>\n",
       "      <td>0</td>\n",
       "      <td>0</td>\n",
       "      <td>440704000009296</td>\n",
       "      <td>销售</td>\n",
       "      <td>食品</td>\n",
       "      <td>食品</td>\n",
       "      <td>销售 食品</td>\n",
       "    </tr>\n",
       "    <tr>\n",
       "      <th>1</th>\n",
       "      <td>1</td>\n",
       "      <td>0</td>\n",
       "      <td>440704000009296</td>\n",
       "      <td>销售</td>\n",
       "      <td>日用杂品。</td>\n",
       "      <td>日用杂品</td>\n",
       "      <td>销售 日用杂品</td>\n",
       "    </tr>\n",
       "    <tr>\n",
       "      <th>2</th>\n",
       "      <td>2</td>\n",
       "      <td>1</td>\n",
       "      <td>440782000021799</td>\n",
       "      <td>自产自销</td>\n",
       "      <td>不锈钢</td>\n",
       "      <td>不锈钢</td>\n",
       "      <td>自产自销 不锈钢</td>\n",
       "    </tr>\n",
       "    <tr>\n",
       "      <th>3</th>\n",
       "      <td>3</td>\n",
       "      <td>1</td>\n",
       "      <td>440782000021799</td>\n",
       "      <td>自产自销</td>\n",
       "      <td>铝</td>\n",
       "      <td>铝</td>\n",
       "      <td>自产自销 铝</td>\n",
       "    </tr>\n",
       "    <tr>\n",
       "      <th>4</th>\n",
       "      <td>4</td>\n",
       "      <td>1</td>\n",
       "      <td>440782000021799</td>\n",
       "      <td>自产自销</td>\n",
       "      <td>铁</td>\n",
       "      <td>铁</td>\n",
       "      <td>自产自销 铁</td>\n",
       "    </tr>\n",
       "  </tbody>\n",
       "</table>\n",
       "</div>"
      ],
      "text/plain": [
       "   Unnamed: 0  level              zch  verb   noun noun_without_bracket  \\\n",
       "0           0      0  440704000009296    销售    食品                   食品    \n",
       "1           1      0  440704000009296    销售  日用杂品。                日用杂品    \n",
       "2           2      1  440782000021799  自产自销    不锈钢                  不锈钢   \n",
       "3           3      1  440782000021799  自产自销      铝                    铝   \n",
       "4           4      1  440782000021799  自产自销      铁                    铁   \n",
       "\n",
       "     phrase  \n",
       "0    销售 食品   \n",
       "1  销售 日用杂品   \n",
       "2  自产自销 不锈钢  \n",
       "3    自产自销 铝  \n",
       "4    自产自销 铁  "
      ]
     },
     "execution_count": 5,
     "metadata": {},
     "output_type": "execute_result"
    }
   ],
   "source": [
    "data_z.head()"
   ]
  },
  {
   "cell_type": "code",
   "execution_count": 6,
   "metadata": {
    "colab": {
     "base_uri": "https://localhost:8080/"
    },
    "colab_type": "code",
    "id": "OdS0DdiXnMZK",
    "outputId": "cbfd6772-98fe-4326-e2ba-0602e72d7967"
   },
   "outputs": [
    {
     "data": {
      "text/plain": [
       "['———', '》），', '）÷（１－', '”，', '）、', '＝（', ':', '→', '℃ ', '&']"
      ]
     },
     "execution_count": 6,
     "metadata": {},
     "output_type": "execute_result"
    }
   ],
   "source": [
    "#停用词\n",
    "def get_custom_stopwords(stop_words_file):\n",
    "    with open(stop_words_file, encoding='gb18030') as f:\n",
    "        stopwords = f.read()\n",
    "    stopwords_list = stopwords.split('\\n')\n",
    "    custom_stopwords_list = [i for i in stopwords_list] #todo: ?\n",
    "    return custom_stopwords_list\n",
    "\n",
    "stop_words_file = prefix + 'stopwordsHIT.txt'\n",
    "stopwords = get_custom_stopwords(stop_words_file)\n",
    "stopwords_set = frozenset(stopwords)\n",
    "stopwords[:10]"
   ]
  },
  {
   "cell_type": "code",
   "execution_count": 7,
   "metadata": {
    "colab": {
     "base_uri": "https://localhost:8080/",
     "height": 85
    },
    "colab_type": "code",
    "id": "0fVH6xipg8EQ",
    "outputId": "bac166ce-6695-4071-db65-5eb0bd827759"
   },
   "outputs": [
    {
     "name": "stderr",
     "output_type": "stream",
     "text": [
      "Building prefix dict from the default dictionary ...\n",
      "Dumping model to file cache C:\\Users\\52393\\AppData\\Local\\Temp\\jieba.cache\n",
      "Loading model cost 1.966 seconds.\n",
      "Prefix dict has been built succesfully.\n"
     ]
    }
   ],
   "source": [
    "#分词并处理停用词\n",
    "def chinese_phrase_cut(text):\n",
    "  text = text.replace(r'、', '')\n",
    "  segs = jieba.cut(text)\n",
    "  final = []\n",
    "  for seg in segs:\n",
    "    if seg not in stopwords_set:\n",
    "      final.append(seg)\n",
    "  return ' '.join(final)\n",
    "\n",
    "data['phrase_cutted'] = data['词组'].apply(chinese_phrase_cut)\n",
    "data_z['phrase_cutted'] = data_z['phrase'].apply(lambda x: chinese_phrase_cut(str(x)))"
   ]
  },
  {
   "cell_type": "code",
   "execution_count": 8,
   "metadata": {
    "colab": {
     "base_uri": "https://localhost:8080/"
    },
    "colab_type": "code",
    "id": "XHxKir5diPoq",
    "outputId": "12f517c1-245e-416d-8d6e-6dec9bb8600b"
   },
   "outputs": [
    {
     "data": {
      "text/html": [
       "<div>\n",
       "<style scoped>\n",
       "    .dataframe tbody tr th:only-of-type {\n",
       "        vertical-align: middle;\n",
       "    }\n",
       "\n",
       "    .dataframe tbody tr th {\n",
       "        vertical-align: top;\n",
       "    }\n",
       "\n",
       "    .dataframe thead th {\n",
       "        text-align: right;\n",
       "    }\n",
       "</style>\n",
       "<table border=\"1\" class=\"dataframe\">\n",
       "  <thead>\n",
       "    <tr style=\"text-align: right;\">\n",
       "      <th></th>\n",
       "      <th>门类</th>\n",
       "      <th>门类编号</th>\n",
       "      <th>大类</th>\n",
       "      <th>词组</th>\n",
       "      <th>动词</th>\n",
       "      <th>名词</th>\n",
       "      <th>大类编号</th>\n",
       "      <th>子类编号</th>\n",
       "      <th>phrase_cutted</th>\n",
       "    </tr>\n",
       "  </thead>\n",
       "  <tbody>\n",
       "    <tr>\n",
       "      <th>0</th>\n",
       "      <td>农、林、牧、渔业</td>\n",
       "      <td>A</td>\n",
       "      <td>农业</td>\n",
       "      <td>谷物种植</td>\n",
       "      <td>种植</td>\n",
       "      <td>谷物</td>\n",
       "      <td>1</td>\n",
       "      <td>11</td>\n",
       "      <td>谷物 种植</td>\n",
       "    </tr>\n",
       "    <tr>\n",
       "      <th>1</th>\n",
       "      <td>农、林、牧、渔业</td>\n",
       "      <td>A</td>\n",
       "      <td>农业</td>\n",
       "      <td>稻谷种植</td>\n",
       "      <td>种植</td>\n",
       "      <td>稻谷</td>\n",
       "      <td>1</td>\n",
       "      <td>111</td>\n",
       "      <td>稻谷 种植</td>\n",
       "    </tr>\n",
       "    <tr>\n",
       "      <th>2</th>\n",
       "      <td>农、林、牧、渔业</td>\n",
       "      <td>A</td>\n",
       "      <td>农业</td>\n",
       "      <td>小麦种植</td>\n",
       "      <td>种植</td>\n",
       "      <td>小麦</td>\n",
       "      <td>1</td>\n",
       "      <td>112</td>\n",
       "      <td>小麦 种植</td>\n",
       "    </tr>\n",
       "    <tr>\n",
       "      <th>3</th>\n",
       "      <td>农、林、牧、渔业</td>\n",
       "      <td>A</td>\n",
       "      <td>农业</td>\n",
       "      <td>玉米种植</td>\n",
       "      <td>种植</td>\n",
       "      <td>玉米</td>\n",
       "      <td>1</td>\n",
       "      <td>113</td>\n",
       "      <td>玉米 种植</td>\n",
       "    </tr>\n",
       "    <tr>\n",
       "      <th>4</th>\n",
       "      <td>农、林、牧、渔业</td>\n",
       "      <td>A</td>\n",
       "      <td>农业</td>\n",
       "      <td>其他谷物种植</td>\n",
       "      <td>种植</td>\n",
       "      <td>其他谷物</td>\n",
       "      <td>1</td>\n",
       "      <td>119</td>\n",
       "      <td>谷物 种植</td>\n",
       "    </tr>\n",
       "    <tr>\n",
       "      <th>5</th>\n",
       "      <td>农、林、牧、渔业</td>\n",
       "      <td>A</td>\n",
       "      <td>农业</td>\n",
       "      <td>豆类、油料和薯类种植</td>\n",
       "      <td>种植</td>\n",
       "      <td>豆类</td>\n",
       "      <td>1</td>\n",
       "      <td>12</td>\n",
       "      <td>豆类 油料 薯类 种植</td>\n",
       "    </tr>\n",
       "    <tr>\n",
       "      <th>6</th>\n",
       "      <td>农、林、牧、渔业</td>\n",
       "      <td>A</td>\n",
       "      <td>农业</td>\n",
       "      <td>豆类种植</td>\n",
       "      <td>种植</td>\n",
       "      <td>豆类</td>\n",
       "      <td>1</td>\n",
       "      <td>121</td>\n",
       "      <td>豆类 种植</td>\n",
       "    </tr>\n",
       "    <tr>\n",
       "      <th>7</th>\n",
       "      <td>农、林、牧、渔业</td>\n",
       "      <td>A</td>\n",
       "      <td>农业</td>\n",
       "      <td>油料种植</td>\n",
       "      <td>种植</td>\n",
       "      <td>油料</td>\n",
       "      <td>1</td>\n",
       "      <td>122</td>\n",
       "      <td>油料 种植</td>\n",
       "    </tr>\n",
       "    <tr>\n",
       "      <th>8</th>\n",
       "      <td>农、林、牧、渔业</td>\n",
       "      <td>A</td>\n",
       "      <td>农业</td>\n",
       "      <td>薯类种植</td>\n",
       "      <td>种植</td>\n",
       "      <td>薯类</td>\n",
       "      <td>1</td>\n",
       "      <td>123</td>\n",
       "      <td>薯类 种植</td>\n",
       "    </tr>\n",
       "    <tr>\n",
       "      <th>9</th>\n",
       "      <td>农、林、牧、渔业</td>\n",
       "      <td>A</td>\n",
       "      <td>农业</td>\n",
       "      <td>棉、麻、糖、烟草种植</td>\n",
       "      <td>种植</td>\n",
       "      <td>棉、麻、糖、烟草</td>\n",
       "      <td>1</td>\n",
       "      <td>13</td>\n",
       "      <td>棉 麻糖 烟草 种植</td>\n",
       "    </tr>\n",
       "    <tr>\n",
       "      <th>10</th>\n",
       "      <td>农、林、牧、渔业</td>\n",
       "      <td>A</td>\n",
       "      <td>农业</td>\n",
       "      <td>棉花种植</td>\n",
       "      <td>种植</td>\n",
       "      <td>棉花</td>\n",
       "      <td>1</td>\n",
       "      <td>131</td>\n",
       "      <td>棉花 种植</td>\n",
       "    </tr>\n",
       "    <tr>\n",
       "      <th>11</th>\n",
       "      <td>农、林、牧、渔业</td>\n",
       "      <td>A</td>\n",
       "      <td>农业</td>\n",
       "      <td>麻类种植</td>\n",
       "      <td>种植</td>\n",
       "      <td>麻类</td>\n",
       "      <td>1</td>\n",
       "      <td>132</td>\n",
       "      <td>麻类 种植</td>\n",
       "    </tr>\n",
       "    <tr>\n",
       "      <th>12</th>\n",
       "      <td>农、林、牧、渔业</td>\n",
       "      <td>A</td>\n",
       "      <td>农业</td>\n",
       "      <td>糖料种植</td>\n",
       "      <td>种植</td>\n",
       "      <td>糖料</td>\n",
       "      <td>1</td>\n",
       "      <td>133</td>\n",
       "      <td>糖料 种植</td>\n",
       "    </tr>\n",
       "    <tr>\n",
       "      <th>13</th>\n",
       "      <td>农、林、牧、渔业</td>\n",
       "      <td>A</td>\n",
       "      <td>农业</td>\n",
       "      <td>烟草种植</td>\n",
       "      <td>种植</td>\n",
       "      <td>烟草</td>\n",
       "      <td>1</td>\n",
       "      <td>134</td>\n",
       "      <td>烟草 种植</td>\n",
       "    </tr>\n",
       "    <tr>\n",
       "      <th>14</th>\n",
       "      <td>农、林、牧、渔业</td>\n",
       "      <td>A</td>\n",
       "      <td>农业</td>\n",
       "      <td>蔬菜、食用菌及园艺作物种植</td>\n",
       "      <td>种植</td>\n",
       "      <td>蔬菜、食用菌及园艺作物</td>\n",
       "      <td>1</td>\n",
       "      <td>14</td>\n",
       "      <td>蔬菜 食用菌 园艺作物 种植</td>\n",
       "    </tr>\n",
       "    <tr>\n",
       "      <th>15</th>\n",
       "      <td>农、林、牧、渔业</td>\n",
       "      <td>A</td>\n",
       "      <td>农业</td>\n",
       "      <td>蔬菜种植</td>\n",
       "      <td>种植</td>\n",
       "      <td>蔬菜</td>\n",
       "      <td>1</td>\n",
       "      <td>141</td>\n",
       "      <td>蔬菜 种植</td>\n",
       "    </tr>\n",
       "    <tr>\n",
       "      <th>16</th>\n",
       "      <td>农、林、牧、渔业</td>\n",
       "      <td>A</td>\n",
       "      <td>农业</td>\n",
       "      <td>食用菌种植</td>\n",
       "      <td>种植</td>\n",
       "      <td>食用菌</td>\n",
       "      <td>1</td>\n",
       "      <td>142</td>\n",
       "      <td>食用菌 种植</td>\n",
       "    </tr>\n",
       "    <tr>\n",
       "      <th>17</th>\n",
       "      <td>农、林、牧、渔业</td>\n",
       "      <td>A</td>\n",
       "      <td>农业</td>\n",
       "      <td>花卉种植</td>\n",
       "      <td>种植</td>\n",
       "      <td>花卉</td>\n",
       "      <td>1</td>\n",
       "      <td>143</td>\n",
       "      <td>花卉 种植</td>\n",
       "    </tr>\n",
       "    <tr>\n",
       "      <th>18</th>\n",
       "      <td>农、林、牧、渔业</td>\n",
       "      <td>A</td>\n",
       "      <td>农业</td>\n",
       "      <td>其他园艺作物种植</td>\n",
       "      <td>种植</td>\n",
       "      <td>其他园艺作物</td>\n",
       "      <td>1</td>\n",
       "      <td>149</td>\n",
       "      <td>园艺作物 种植</td>\n",
       "    </tr>\n",
       "    <tr>\n",
       "      <th>19</th>\n",
       "      <td>农、林、牧、渔业</td>\n",
       "      <td>A</td>\n",
       "      <td>农业</td>\n",
       "      <td>水果种植</td>\n",
       "      <td>种植</td>\n",
       "      <td>水果</td>\n",
       "      <td>1</td>\n",
       "      <td>15</td>\n",
       "      <td>水果 种植</td>\n",
       "    </tr>\n",
       "  </tbody>\n",
       "</table>\n",
       "</div>"
      ],
      "text/plain": [
       "          门类 门类编号  大类             词组  动词           名词  大类编号  子类编号  \\\n",
       "0   农、林、牧、渔业    A  农业           谷物种植  种植           谷物     1    11   \n",
       "1   农、林、牧、渔业    A  农业           稻谷种植  种植           稻谷     1   111   \n",
       "2   农、林、牧、渔业    A  农业           小麦种植  种植           小麦     1   112   \n",
       "3   农、林、牧、渔业    A  农业           玉米种植  种植           玉米     1   113   \n",
       "4   农、林、牧、渔业    A  农业         其他谷物种植  种植         其他谷物     1   119   \n",
       "5   农、林、牧、渔业    A  农业     豆类、油料和薯类种植  种植           豆类     1    12   \n",
       "6   农、林、牧、渔业    A  农业           豆类种植  种植           豆类     1   121   \n",
       "7   农、林、牧、渔业    A  农业           油料种植  种植           油料     1   122   \n",
       "8   农、林、牧、渔业    A  农业           薯类种植  种植           薯类     1   123   \n",
       "9   农、林、牧、渔业    A  农业     棉、麻、糖、烟草种植  种植     棉、麻、糖、烟草     1    13   \n",
       "10  农、林、牧、渔业    A  农业           棉花种植  种植           棉花     1   131   \n",
       "11  农、林、牧、渔业    A  农业           麻类种植  种植           麻类     1   132   \n",
       "12  农、林、牧、渔业    A  农业           糖料种植  种植           糖料     1   133   \n",
       "13  农、林、牧、渔业    A  农业           烟草种植  种植           烟草     1   134   \n",
       "14  农、林、牧、渔业    A  农业  蔬菜、食用菌及园艺作物种植  种植  蔬菜、食用菌及园艺作物     1    14   \n",
       "15  农、林、牧、渔业    A  农业           蔬菜种植  种植           蔬菜     1   141   \n",
       "16  农、林、牧、渔业    A  农业          食用菌种植  种植          食用菌     1   142   \n",
       "17  农、林、牧、渔业    A  农业           花卉种植  种植           花卉     1   143   \n",
       "18  农、林、牧、渔业    A  农业       其他园艺作物种植  种植       其他园艺作物     1   149   \n",
       "19  农、林、牧、渔业    A  农业           水果种植  种植           水果     1    15   \n",
       "\n",
       "     phrase_cutted  \n",
       "0            谷物 种植  \n",
       "1            稻谷 种植  \n",
       "2            小麦 种植  \n",
       "3            玉米 种植  \n",
       "4            谷物 种植  \n",
       "5      豆类 油料 薯类 种植  \n",
       "6            豆类 种植  \n",
       "7            油料 种植  \n",
       "8            薯类 种植  \n",
       "9       棉 麻糖 烟草 种植  \n",
       "10           棉花 种植  \n",
       "11           麻类 种植  \n",
       "12           糖料 种植  \n",
       "13           烟草 种植  \n",
       "14  蔬菜 食用菌 园艺作物 种植  \n",
       "15           蔬菜 种植  \n",
       "16          食用菌 种植  \n",
       "17           花卉 种植  \n",
       "18         园艺作物 种植  \n",
       "19           水果 种植  "
      ]
     },
     "execution_count": 8,
     "metadata": {},
     "output_type": "execute_result"
    }
   ],
   "source": [
    "data.head(20)"
   ]
  },
  {
   "cell_type": "code",
   "execution_count": 10,
   "metadata": {
    "colab": {},
    "colab_type": "code",
    "id": "0xvEiy7ciZyc"
   },
   "outputs": [],
   "source": [
    "#构建X\n",
    "A = data[['phrase_cutted']]\n",
    "B = data_z[['phrase_cutted']]\n",
    "X = pd.concat([A, B], axis=0)\n",
    "X = X.reset_index(drop=True)\n",
    "#标签y\n",
    "from sklearn.preprocessing import LabelEncoder\n",
    "encoder = LabelEncoder()\n",
    "y = encoder.fit_transform(data['大类'])\n",
    "data['label'] = y"
   ]
  },
  {
   "cell_type": "code",
   "execution_count": 11,
   "metadata": {
    "colab": {},
    "colab_type": "code",
    "id": "7-NwHLT7kTqy"
   },
   "outputs": [],
   "source": [
    "#保存txt\n",
    "X.to_csv(prefix + 'phrase_cutted.txt', header=False, index=False)"
   ]
  },
  {
   "cell_type": "code",
   "execution_count": 12,
   "metadata": {
    "colab": {
     "base_uri": "https://localhost:8080/"
    },
    "colab_type": "code",
    "id": "0Xypg38Ykb_Y",
    "outputId": "a3d583aa-ecec-4967-9b24-e1f67e7465f3"
   },
   "outputs": [
    {
     "data": {
      "text/html": [
       "<div>\n",
       "<style scoped>\n",
       "    .dataframe tbody tr th:only-of-type {\n",
       "        vertical-align: middle;\n",
       "    }\n",
       "\n",
       "    .dataframe tbody tr th {\n",
       "        vertical-align: top;\n",
       "    }\n",
       "\n",
       "    .dataframe thead th {\n",
       "        text-align: right;\n",
       "    }\n",
       "</style>\n",
       "<table border=\"1\" class=\"dataframe\">\n",
       "  <thead>\n",
       "    <tr style=\"text-align: right;\">\n",
       "      <th></th>\n",
       "      <th>phrase_cutted</th>\n",
       "    </tr>\n",
       "  </thead>\n",
       "  <tbody>\n",
       "    <tr>\n",
       "      <th>0</th>\n",
       "      <td>谷物 种植</td>\n",
       "    </tr>\n",
       "    <tr>\n",
       "      <th>1</th>\n",
       "      <td>稻谷 种植</td>\n",
       "    </tr>\n",
       "    <tr>\n",
       "      <th>2</th>\n",
       "      <td>小麦 种植</td>\n",
       "    </tr>\n",
       "    <tr>\n",
       "      <th>3</th>\n",
       "      <td>玉米 种植</td>\n",
       "    </tr>\n",
       "    <tr>\n",
       "      <th>4</th>\n",
       "      <td>谷物 种植</td>\n",
       "    </tr>\n",
       "  </tbody>\n",
       "</table>\n",
       "</div>"
      ],
      "text/plain": [
       "  phrase_cutted\n",
       "0         谷物 种植\n",
       "1         稻谷 种植\n",
       "2         小麦 种植\n",
       "3         玉米 种植\n",
       "4         谷物 种植"
      ]
     },
     "execution_count": 12,
     "metadata": {},
     "output_type": "execute_result"
    }
   ],
   "source": [
    "X.head()"
   ]
  },
  {
   "cell_type": "code",
   "execution_count": 13,
   "metadata": {
    "colab": {
     "base_uri": "https://localhost:8080/",
     "height": 71
    },
    "colab_type": "code",
    "id": "0yjyLP7RkiwQ",
    "outputId": "2a2d454c-bbe9-4564-eb20-4acb08a18cf1"
   },
   "outputs": [],
   "source": [
    "#训练word2vec\n",
    "dim = 300\n",
    "def train_word2vec():\n",
    "  inp = prefix + 'phrase_cutted.txt'\n",
    "  model = Word2Vec(LineSentence(inp), size=dim, window=1, min_count=5, )\n",
    "  model.save(prefix + 'ph_cutted.model')\n",
    "  model.wv.save_word2vec_format(prefix + 'ph_cutted.vector', binary=False)\n",
    "train_word2vec()"
   ]
  },
  {
   "cell_type": "code",
   "execution_count": 14,
   "metadata": {
    "colab": {
     "base_uri": "https://localhost:8080/"
    },
    "colab_type": "code",
    "id": "EeNP9Q5nysvw",
    "outputId": "e0c8df44-3149-474f-a2e4-491513d89df5"
   },
   "outputs": [
    {
     "ename": "FileNotFoundError",
     "evalue": "[Errno 2] No such file or directory: 'baike_26g_news_13g_novel_229g.model.wv.vectors.npy'",
     "output_type": "error",
     "traceback": [
      "\u001b[1;31m---------------------------------------------------------------------------\u001b[0m",
      "\u001b[1;31mFileNotFoundError\u001b[0m                         Traceback (most recent call last)",
      "\u001b[1;32m<ipython-input-14-9f0b5092ccca>\u001b[0m in \u001b[0;36m<module>\u001b[1;34m\u001b[0m\n\u001b[0;32m      1\u001b[0m \u001b[1;31m#测试word2vec\u001b[0m\u001b[1;33m\u001b[0m\u001b[1;33m\u001b[0m\u001b[1;33m\u001b[0m\u001b[0m\n\u001b[0;32m      2\u001b[0m \u001b[1;31m# model = Word2Vec.load(prefix + 'ph_cutted.model')\u001b[0m\u001b[1;33m\u001b[0m\u001b[1;33m\u001b[0m\u001b[1;33m\u001b[0m\u001b[0m\n\u001b[1;32m----> 3\u001b[1;33m \u001b[0mmodel\u001b[0m \u001b[1;33m=\u001b[0m \u001b[0mWord2Vec\u001b[0m\u001b[1;33m.\u001b[0m\u001b[0mload\u001b[0m\u001b[1;33m(\u001b[0m\u001b[0mprefix\u001b[0m \u001b[1;33m+\u001b[0m \u001b[1;34m'baike_26g_news_13g_novel_229g.model'\u001b[0m\u001b[1;33m)\u001b[0m\u001b[1;33m\u001b[0m\u001b[1;33m\u001b[0m\u001b[0m\n\u001b[0m\u001b[0;32m      4\u001b[0m \u001b[1;31m# model = KeyedVectors.load_word2vec_format(prefix + 'zh.vec')\u001b[0m\u001b[1;33m\u001b[0m\u001b[1;33m\u001b[0m\u001b[1;33m\u001b[0m\u001b[0m\n\u001b[0;32m      5\u001b[0m \u001b[0mtestwords\u001b[0m \u001b[1;33m=\u001b[0m \u001b[1;33m[\u001b[0m\u001b[1;34m'种植'\u001b[0m\u001b[1;33m,\u001b[0m \u001b[1;34m'零售'\u001b[0m\u001b[1;33m,\u001b[0m \u001b[1;34m'销售'\u001b[0m \u001b[1;33m]\u001b[0m\u001b[1;33m\u001b[0m\u001b[1;33m\u001b[0m\u001b[0m\n",
      "\u001b[1;32mE:\\Anaconda3\\lib\\site-packages\\gensim\\models\\word2vec.py\u001b[0m in \u001b[0;36mload\u001b[1;34m(cls, *args, **kwargs)\u001b[0m\n\u001b[0;32m   1328\u001b[0m         \"\"\"\n\u001b[0;32m   1329\u001b[0m         \u001b[1;32mtry\u001b[0m\u001b[1;33m:\u001b[0m\u001b[1;33m\u001b[0m\u001b[1;33m\u001b[0m\u001b[0m\n\u001b[1;32m-> 1330\u001b[1;33m             \u001b[0mmodel\u001b[0m \u001b[1;33m=\u001b[0m \u001b[0msuper\u001b[0m\u001b[1;33m(\u001b[0m\u001b[0mWord2Vec\u001b[0m\u001b[1;33m,\u001b[0m \u001b[0mcls\u001b[0m\u001b[1;33m)\u001b[0m\u001b[1;33m.\u001b[0m\u001b[0mload\u001b[0m\u001b[1;33m(\u001b[0m\u001b[1;33m*\u001b[0m\u001b[0margs\u001b[0m\u001b[1;33m,\u001b[0m \u001b[1;33m**\u001b[0m\u001b[0mkwargs\u001b[0m\u001b[1;33m)\u001b[0m\u001b[1;33m\u001b[0m\u001b[1;33m\u001b[0m\u001b[0m\n\u001b[0m\u001b[0;32m   1331\u001b[0m \u001b[1;33m\u001b[0m\u001b[0m\n\u001b[0;32m   1332\u001b[0m             \u001b[1;31m# for backward compatibility for `max_final_vocab` feature\u001b[0m\u001b[1;33m\u001b[0m\u001b[1;33m\u001b[0m\u001b[1;33m\u001b[0m\u001b[0m\n",
      "\u001b[1;32mE:\\Anaconda3\\lib\\site-packages\\gensim\\models\\base_any2vec.py\u001b[0m in \u001b[0;36mload\u001b[1;34m(cls, *args, **kwargs)\u001b[0m\n\u001b[0;32m   1242\u001b[0m \u001b[1;33m\u001b[0m\u001b[0m\n\u001b[0;32m   1243\u001b[0m         \"\"\"\n\u001b[1;32m-> 1244\u001b[1;33m         \u001b[0mmodel\u001b[0m \u001b[1;33m=\u001b[0m \u001b[0msuper\u001b[0m\u001b[1;33m(\u001b[0m\u001b[0mBaseWordEmbeddingsModel\u001b[0m\u001b[1;33m,\u001b[0m \u001b[0mcls\u001b[0m\u001b[1;33m)\u001b[0m\u001b[1;33m.\u001b[0m\u001b[0mload\u001b[0m\u001b[1;33m(\u001b[0m\u001b[1;33m*\u001b[0m\u001b[0margs\u001b[0m\u001b[1;33m,\u001b[0m \u001b[1;33m**\u001b[0m\u001b[0mkwargs\u001b[0m\u001b[1;33m)\u001b[0m\u001b[1;33m\u001b[0m\u001b[1;33m\u001b[0m\u001b[0m\n\u001b[0m\u001b[0;32m   1245\u001b[0m         \u001b[1;32mif\u001b[0m \u001b[1;32mnot\u001b[0m \u001b[0mhasattr\u001b[0m\u001b[1;33m(\u001b[0m\u001b[0mmodel\u001b[0m\u001b[1;33m,\u001b[0m \u001b[1;34m'ns_exponent'\u001b[0m\u001b[1;33m)\u001b[0m\u001b[1;33m:\u001b[0m\u001b[1;33m\u001b[0m\u001b[1;33m\u001b[0m\u001b[0m\n\u001b[0;32m   1246\u001b[0m             \u001b[0mmodel\u001b[0m\u001b[1;33m.\u001b[0m\u001b[0mns_exponent\u001b[0m \u001b[1;33m=\u001b[0m \u001b[1;36m0.75\u001b[0m\u001b[1;33m\u001b[0m\u001b[1;33m\u001b[0m\u001b[0m\n",
      "\u001b[1;32mE:\\Anaconda3\\lib\\site-packages\\gensim\\models\\base_any2vec.py\u001b[0m in \u001b[0;36mload\u001b[1;34m(cls, fname_or_handle, **kwargs)\u001b[0m\n\u001b[0;32m    601\u001b[0m \u001b[1;33m\u001b[0m\u001b[0m\n\u001b[0;32m    602\u001b[0m         \"\"\"\n\u001b[1;32m--> 603\u001b[1;33m         \u001b[1;32mreturn\u001b[0m \u001b[0msuper\u001b[0m\u001b[1;33m(\u001b[0m\u001b[0mBaseAny2VecModel\u001b[0m\u001b[1;33m,\u001b[0m \u001b[0mcls\u001b[0m\u001b[1;33m)\u001b[0m\u001b[1;33m.\u001b[0m\u001b[0mload\u001b[0m\u001b[1;33m(\u001b[0m\u001b[0mfname_or_handle\u001b[0m\u001b[1;33m,\u001b[0m \u001b[1;33m**\u001b[0m\u001b[0mkwargs\u001b[0m\u001b[1;33m)\u001b[0m\u001b[1;33m\u001b[0m\u001b[1;33m\u001b[0m\u001b[0m\n\u001b[0m\u001b[0;32m    604\u001b[0m \u001b[1;33m\u001b[0m\u001b[0m\n\u001b[0;32m    605\u001b[0m     \u001b[1;32mdef\u001b[0m \u001b[0msave\u001b[0m\u001b[1;33m(\u001b[0m\u001b[0mself\u001b[0m\u001b[1;33m,\u001b[0m \u001b[0mfname_or_handle\u001b[0m\u001b[1;33m,\u001b[0m \u001b[1;33m**\u001b[0m\u001b[0mkwargs\u001b[0m\u001b[1;33m)\u001b[0m\u001b[1;33m:\u001b[0m\u001b[1;33m\u001b[0m\u001b[1;33m\u001b[0m\u001b[0m\n",
      "\u001b[1;32mE:\\Anaconda3\\lib\\site-packages\\gensim\\utils.py\u001b[0m in \u001b[0;36mload\u001b[1;34m(cls, fname, mmap)\u001b[0m\n\u001b[0;32m    425\u001b[0m \u001b[1;33m\u001b[0m\u001b[0m\n\u001b[0;32m    426\u001b[0m         \u001b[0mobj\u001b[0m \u001b[1;33m=\u001b[0m \u001b[0munpickle\u001b[0m\u001b[1;33m(\u001b[0m\u001b[0mfname\u001b[0m\u001b[1;33m)\u001b[0m\u001b[1;33m\u001b[0m\u001b[1;33m\u001b[0m\u001b[0m\n\u001b[1;32m--> 427\u001b[1;33m         \u001b[0mobj\u001b[0m\u001b[1;33m.\u001b[0m\u001b[0m_load_specials\u001b[0m\u001b[1;33m(\u001b[0m\u001b[0mfname\u001b[0m\u001b[1;33m,\u001b[0m \u001b[0mmmap\u001b[0m\u001b[1;33m,\u001b[0m \u001b[0mcompress\u001b[0m\u001b[1;33m,\u001b[0m \u001b[0msubname\u001b[0m\u001b[1;33m)\u001b[0m\u001b[1;33m\u001b[0m\u001b[1;33m\u001b[0m\u001b[0m\n\u001b[0m\u001b[0;32m    428\u001b[0m         \u001b[0mlogger\u001b[0m\u001b[1;33m.\u001b[0m\u001b[0minfo\u001b[0m\u001b[1;33m(\u001b[0m\u001b[1;34m\"loaded %s\"\u001b[0m\u001b[1;33m,\u001b[0m \u001b[0mfname\u001b[0m\u001b[1;33m)\u001b[0m\u001b[1;33m\u001b[0m\u001b[1;33m\u001b[0m\u001b[0m\n\u001b[0;32m    429\u001b[0m         \u001b[1;32mreturn\u001b[0m \u001b[0mobj\u001b[0m\u001b[1;33m\u001b[0m\u001b[1;33m\u001b[0m\u001b[0m\n",
      "\u001b[1;32mE:\\Anaconda3\\lib\\site-packages\\gensim\\utils.py\u001b[0m in \u001b[0;36m_load_specials\u001b[1;34m(self, fname, mmap, compress, subname)\u001b[0m\n\u001b[0;32m    456\u001b[0m             \u001b[0mlogger\u001b[0m\u001b[1;33m.\u001b[0m\u001b[0minfo\u001b[0m\u001b[1;33m(\u001b[0m\u001b[1;34m\"loading %s recursively from %s.* with mmap=%s\"\u001b[0m\u001b[1;33m,\u001b[0m \u001b[0mattrib\u001b[0m\u001b[1;33m,\u001b[0m \u001b[0mcfname\u001b[0m\u001b[1;33m,\u001b[0m \u001b[0mmmap\u001b[0m\u001b[1;33m)\u001b[0m\u001b[1;33m\u001b[0m\u001b[1;33m\u001b[0m\u001b[0m\n\u001b[0;32m    457\u001b[0m             \u001b[1;32mwith\u001b[0m \u001b[0mignore_deprecation_warning\u001b[0m\u001b[1;33m(\u001b[0m\u001b[1;33m)\u001b[0m\u001b[1;33m:\u001b[0m\u001b[1;33m\u001b[0m\u001b[1;33m\u001b[0m\u001b[0m\n\u001b[1;32m--> 458\u001b[1;33m                 \u001b[0mgetattr\u001b[0m\u001b[1;33m(\u001b[0m\u001b[0mself\u001b[0m\u001b[1;33m,\u001b[0m \u001b[0mattrib\u001b[0m\u001b[1;33m)\u001b[0m\u001b[1;33m.\u001b[0m\u001b[0m_load_specials\u001b[0m\u001b[1;33m(\u001b[0m\u001b[0mcfname\u001b[0m\u001b[1;33m,\u001b[0m \u001b[0mmmap\u001b[0m\u001b[1;33m,\u001b[0m \u001b[0mcompress\u001b[0m\u001b[1;33m,\u001b[0m \u001b[0msubname\u001b[0m\u001b[1;33m)\u001b[0m\u001b[1;33m\u001b[0m\u001b[1;33m\u001b[0m\u001b[0m\n\u001b[0m\u001b[0;32m    459\u001b[0m \u001b[1;33m\u001b[0m\u001b[0m\n\u001b[0;32m    460\u001b[0m         \u001b[1;32mfor\u001b[0m \u001b[0mattrib\u001b[0m \u001b[1;32min\u001b[0m \u001b[0mgetattr\u001b[0m\u001b[1;33m(\u001b[0m\u001b[0mself\u001b[0m\u001b[1;33m,\u001b[0m \u001b[1;34m'__numpys'\u001b[0m\u001b[1;33m,\u001b[0m \u001b[1;33m[\u001b[0m\u001b[1;33m]\u001b[0m\u001b[1;33m)\u001b[0m\u001b[1;33m:\u001b[0m\u001b[1;33m\u001b[0m\u001b[1;33m\u001b[0m\u001b[0m\n",
      "\u001b[1;32mE:\\Anaconda3\\lib\\site-packages\\gensim\\utils.py\u001b[0m in \u001b[0;36m_load_specials\u001b[1;34m(self, fname, mmap, compress, subname)\u001b[0m\n\u001b[0;32m    467\u001b[0m                 \u001b[0mval\u001b[0m \u001b[1;33m=\u001b[0m \u001b[0mnp\u001b[0m\u001b[1;33m.\u001b[0m\u001b[0mload\u001b[0m\u001b[1;33m(\u001b[0m\u001b[0msubname\u001b[0m\u001b[1;33m(\u001b[0m\u001b[0mfname\u001b[0m\u001b[1;33m,\u001b[0m \u001b[0mattrib\u001b[0m\u001b[1;33m)\u001b[0m\u001b[1;33m)\u001b[0m\u001b[1;33m[\u001b[0m\u001b[1;34m'val'\u001b[0m\u001b[1;33m]\u001b[0m\u001b[1;33m\u001b[0m\u001b[1;33m\u001b[0m\u001b[0m\n\u001b[0;32m    468\u001b[0m             \u001b[1;32melse\u001b[0m\u001b[1;33m:\u001b[0m\u001b[1;33m\u001b[0m\u001b[1;33m\u001b[0m\u001b[0m\n\u001b[1;32m--> 469\u001b[1;33m                 \u001b[0mval\u001b[0m \u001b[1;33m=\u001b[0m \u001b[0mnp\u001b[0m\u001b[1;33m.\u001b[0m\u001b[0mload\u001b[0m\u001b[1;33m(\u001b[0m\u001b[0msubname\u001b[0m\u001b[1;33m(\u001b[0m\u001b[0mfname\u001b[0m\u001b[1;33m,\u001b[0m \u001b[0mattrib\u001b[0m\u001b[1;33m)\u001b[0m\u001b[1;33m,\u001b[0m \u001b[0mmmap_mode\u001b[0m\u001b[1;33m=\u001b[0m\u001b[0mmmap\u001b[0m\u001b[1;33m)\u001b[0m\u001b[1;33m\u001b[0m\u001b[1;33m\u001b[0m\u001b[0m\n\u001b[0m\u001b[0;32m    470\u001b[0m \u001b[1;33m\u001b[0m\u001b[0m\n\u001b[0;32m    471\u001b[0m             \u001b[1;32mwith\u001b[0m \u001b[0mignore_deprecation_warning\u001b[0m\u001b[1;33m(\u001b[0m\u001b[1;33m)\u001b[0m\u001b[1;33m:\u001b[0m\u001b[1;33m\u001b[0m\u001b[1;33m\u001b[0m\u001b[0m\n",
      "\u001b[1;32mE:\\Anaconda3\\lib\\site-packages\\numpy\\lib\\npyio.py\u001b[0m in \u001b[0;36mload\u001b[1;34m(file, mmap_mode, allow_pickle, fix_imports, encoding)\u001b[0m\n\u001b[0;32m    413\u001b[0m         \u001b[0mown_fid\u001b[0m \u001b[1;33m=\u001b[0m \u001b[1;32mFalse\u001b[0m\u001b[1;33m\u001b[0m\u001b[1;33m\u001b[0m\u001b[0m\n\u001b[0;32m    414\u001b[0m     \u001b[1;32melse\u001b[0m\u001b[1;33m:\u001b[0m\u001b[1;33m\u001b[0m\u001b[1;33m\u001b[0m\u001b[0m\n\u001b[1;32m--> 415\u001b[1;33m         \u001b[0mfid\u001b[0m \u001b[1;33m=\u001b[0m \u001b[0mopen\u001b[0m\u001b[1;33m(\u001b[0m\u001b[0mos_fspath\u001b[0m\u001b[1;33m(\u001b[0m\u001b[0mfile\u001b[0m\u001b[1;33m)\u001b[0m\u001b[1;33m,\u001b[0m \u001b[1;34m\"rb\"\u001b[0m\u001b[1;33m)\u001b[0m\u001b[1;33m\u001b[0m\u001b[1;33m\u001b[0m\u001b[0m\n\u001b[0m\u001b[0;32m    416\u001b[0m         \u001b[0mown_fid\u001b[0m \u001b[1;33m=\u001b[0m \u001b[1;32mTrue\u001b[0m\u001b[1;33m\u001b[0m\u001b[1;33m\u001b[0m\u001b[0m\n\u001b[0;32m    417\u001b[0m \u001b[1;33m\u001b[0m\u001b[0m\n",
      "\u001b[1;31mFileNotFoundError\u001b[0m: [Errno 2] No such file or directory: 'baike_26g_news_13g_novel_229g.model.wv.vectors.npy'"
     ]
    }
   ],
   "source": [
    "#测试word2vec\n",
    "# model = Word2Vec.load(prefix + 'ph_cutted.model')\n",
    "model = Word2Vec.load(prefix + 'baike_26g_news_13g_novel_229g.model')\n",
    "# model = KeyedVectors.load_word2vec_format(prefix + 'zh.vec')\n",
    "testwords = ['种植', '零售', '销售' ]\n",
    "for x in testwords:\n",
    "  res = model.most_similar(x)\n",
    "  print(x)\n",
    "  print(res)"
   ]
  },
  {
   "cell_type": "code",
   "execution_count": null,
   "metadata": {
    "colab": {},
    "colab_type": "code",
    "id": "utomlfE2YmZF"
   },
   "outputs": [],
   "source": [
    "#合并关键词向量\n",
    "def merge_vec(lst, dim):\n",
    "  vec = np.zeros(dim)\n",
    "  if not lst:\n",
    "    return vec\n",
    "  count = 0\n",
    "  for w in lst:\n",
    "    try:\n",
    "      vec += model[w]\n",
    "      count += 1\n",
    "    except KeyError:\n",
    "      continue\n",
    "  vec /= count\n",
    "  return vec\n",
    "\n",
    "X_vec = X['phrase_cutted'].apply(lambda x: merge_vec(x.split(), dim))\n",
    "X_vec = pd.DataFrame(X_vec.values.tolist())\n",
    "X_vec = X_vec.replace(np.nan, 0)"
   ]
  },
  {
   "cell_type": "code",
   "execution_count": null,
   "metadata": {
    "colab": {},
    "colab_type": "code",
    "id": "ST8WrexPKAQ-"
   },
   "outputs": [],
   "source": [
    "#正则化\n",
    "from sklearn.preprocessing import MinMaxScaler\n",
    "X_vec = pd.DataFrame(MinMaxScaler().fit_transform(X_vec))"
   ]
  },
  {
   "cell_type": "code",
   "execution_count": null,
   "metadata": {
    "colab": {},
    "colab_type": "code",
    "id": "xLrCS18xDa3K"
   },
   "outputs": [],
   "source": [
    "#划分训练集和测试集\n",
    "from sklearn.model_selection import train_test_split\n",
    "X_t = X_vec.head(len(A))\n",
    "Z = X_vec.tail(len(B))\n",
    "X_train, X_test, y_train, y_test = train_test_split(X_t, y, random_state=1)\n",
    "print(X_train.shape)\n",
    "print(X_test.shape)\n",
    "print(Z.shape)"
   ]
  },
  {
   "cell_type": "code",
   "execution_count": null,
   "metadata": {
    "colab": {},
    "colab_type": "code",
    "id": "kstD56IwFeSN"
   },
   "outputs": [],
   "source": [
    "#贝叶斯模型\n",
    "from sklearn.naive_bayes import MultinomialNB\n",
    "nb = MultinomialNB()\n",
    "#决策树\n",
    "from sklearn.tree import DecisionTreeClassifier\n",
    "clf = DecisionTreeClassifier(random_state=1 )\n",
    "#随机森林\n",
    "from sklearn.ensemble import RandomForestClassifier\n",
    "rfc = RandomForestClassifier(n_estimators=500, criterion='gini', random_state=1, )\n",
    "#SVM.LinearSVC\n",
    "from sklearn.svm import LinearSVC\n",
    "svc = LinearSVC()\n",
    "#KNN\n",
    "from sklearn.neighbors import KNeighborsClassifier\n",
    "knn = KNeighborsClassifier()\n",
    "#XGboost\n",
    "from sklearn.ensemble import GradientBoostingClassifier\n",
    "xgb = GradientBoostingClassifier()"
   ]
  },
  {
   "cell_type": "code",
   "execution_count": null,
   "metadata": {
    "colab": {},
    "colab_type": "code",
    "id": "d_MjGZz7ID0P"
   },
   "outputs": [],
   "source": [
    "#训练分数\n",
    "from sklearn import metrics\n",
    "m = svc\n",
    "m = m.fit(X_train, y_train)\n",
    "y_pred = m.predict(X_test)\n",
    "#训练集分数\n",
    "print(m.score(X_train, y_train))\n",
    "#测试准确率\n",
    "print(metrics.accuracy_score(y_test, y_pred))"
   ]
  },
  {
   "cell_type": "code",
   "execution_count": null,
   "metadata": {
    "colab": {},
    "colab_type": "code",
    "id": "kzxZtneQI_PI"
   },
   "outputs": [],
   "source": [
    "#新数据预测结果\n",
    "Z_pred = m.predict(Z)\n",
    "data_z['predit'] = encoder.inverse_transform(Z_pred)\n",
    "data_z.head(50)\n",
    "# data_z.to_excel('/content/drive/My Drive/Colab Notebooks/Z_pre_v2.xlsx')"
   ]
  }
 ],
 "metadata": {
  "colab": {
   "include_colab_link": true,
   "name": "demo-word2vec-gensim.ipynb",
   "provenance": []
  },
  "kernelspec": {
   "display_name": "Python 3",
   "language": "python",
   "name": "python3"
  },
  "language_info": {
   "codemirror_mode": {
    "name": "ipython",
    "version": 3
   },
   "file_extension": ".py",
   "mimetype": "text/x-python",
   "name": "python",
   "nbconvert_exporter": "python",
   "pygments_lexer": "ipython3",
   "version": "3.7.3"
  }
 },
 "nbformat": 4,
 "nbformat_minor": 2
}
=======
  "nbformat": 4,
  "nbformat_minor": 0,
  "metadata": {
    "colab": {
      "name": "demo-word2vec-gensim.ipynb",
      "provenance": [],
      "include_colab_link": true
    },
    "kernelspec": {
      "name": "python3",
      "display_name": "Python 3"
    }
  },
  "cells": [
    {
      "cell_type": "markdown",
      "metadata": {
        "id": "view-in-github",
        "colab_type": "text"
      },
      "source": [
        "<a href=\"https://colab.research.google.com/github/beaterjy/demo-word2vec-gensim/blob/master/demo_word2vec_gensim.ipynb\" target=\"_parent\"><img src=\"https://colab.research.google.com/assets/colab-badge.svg\" alt=\"Open In Colab\"/></a>"
      ]
    },
    {
      "cell_type": "code",
      "metadata": {
        "id": "IkvtyXmVfuzX",
        "colab_type": "code",
        "outputId": "553e5be5-a15e-471b-d5aa-cd5a4a90845b",
        "colab": {
          "base_uri": "https://localhost:8080/",
          "height": 122
        }
      },
      "source": [
        "from google.colab import drive\n",
        "drive.mount('/content/drive')"
      ],
      "execution_count": 0,
      "outputs": [
        {
          "output_type": "stream",
          "text": [
            "Go to this URL in a browser: https://accounts.google.com/o/oauth2/auth?client_id=947318989803-6bn6qk8qdgf4n4g3pfee6491hc0brc4i.apps.googleusercontent.com&redirect_uri=urn%3Aietf%3Awg%3Aoauth%3A2.0%3Aoob&scope=email%20https%3A%2F%2Fwww.googleapis.com%2Fauth%2Fdocs.test%20https%3A%2F%2Fwww.googleapis.com%2Fauth%2Fdrive%20https%3A%2F%2Fwww.googleapis.com%2Fauth%2Fdrive.photos.readonly%20https%3A%2F%2Fwww.googleapis.com%2Fauth%2Fpeopleapi.readonly&response_type=code\n",
            "\n",
            "Enter your authorization code:\n",
            "··········\n",
            "Mounted at /content/drive\n"
          ],
          "name": "stdout"
        }
      ]
    },
    {
      "cell_type": "code",
      "metadata": {
        "id": "DlIvM_hYgT-U",
        "colab_type": "code",
        "colab": {}
      },
      "source": [
        "import pandas as pd\n",
        "import numpy as np\n",
        "import jieba\n",
        "import multiprocessing\n",
        "from gensim.models import Word2Vec\n",
        "from gensim.models.word2vec import LineSentence\n",
        "from gensim.models import KeyedVectors"
      ],
      "execution_count": 0,
      "outputs": []
    },
    {
      "cell_type": "code",
      "metadata": {
        "id": "Rx_7-PZ_fv1U",
        "colab_type": "code",
        "outputId": "cd4db594-52f8-4436-cef1-bd8dcf072817",
        "colab": {
          "base_uri": "https://localhost:8080/",
          "height": 51
        }
      },
      "source": [
        "data = pd.read_excel('/content/drive/My Drive/Colab Notebooks/training_data_v2_4.xlsx')\n",
        "data_z = pd.read_excel('/content/drive/My Drive/Colab Notebooks/multi_Z.xlsx')\n",
        "print(data.shape)\n",
        "print(data_z.shape)\n",
        "data_z['phrase'] = data_z['verb'].str.cat(data_z['noun_without_bracket'], sep=' ')\n"
      ],
      "execution_count": 0,
      "outputs": [
        {
          "output_type": "stream",
          "text": [
            "(1922, 8)\n",
            "(129672, 6)\n"
          ],
          "name": "stdout"
        }
      ]
    },
    {
      "cell_type": "code",
      "metadata": {
        "id": "xyVtO52ZgRem",
        "colab_type": "code",
        "outputId": "648075c5-a5d9-4160-e65a-87ce163e3ed7",
        "colab": {
          "base_uri": "https://localhost:8080/"
        }
      },
      "source": [
        "data.head()"
      ],
      "execution_count": 0,
      "outputs": [
        {
          "output_type": "execute_result",
          "data": {
            "text/html": [
              "<div>\n",
              "<style scoped>\n",
              "    .dataframe tbody tr th:only-of-type {\n",
              "        vertical-align: middle;\n",
              "    }\n",
              "\n",
              "    .dataframe tbody tr th {\n",
              "        vertical-align: top;\n",
              "    }\n",
              "\n",
              "    .dataframe thead th {\n",
              "        text-align: right;\n",
              "    }\n",
              "</style>\n",
              "<table border=\"1\" class=\"dataframe\">\n",
              "  <thead>\n",
              "    <tr style=\"text-align: right;\">\n",
              "      <th></th>\n",
              "      <th>门类</th>\n",
              "      <th>门类编号</th>\n",
              "      <th>大类</th>\n",
              "      <th>词组</th>\n",
              "      <th>动词</th>\n",
              "      <th>名词</th>\n",
              "      <th>大类编号</th>\n",
              "      <th>子类编号</th>\n",
              "    </tr>\n",
              "  </thead>\n",
              "  <tbody>\n",
              "    <tr>\n",
              "      <th>0</th>\n",
              "      <td>农、林、牧、渔业</td>\n",
              "      <td>A</td>\n",
              "      <td>农业</td>\n",
              "      <td>谷物种植</td>\n",
              "      <td>种植</td>\n",
              "      <td>谷物</td>\n",
              "      <td>1</td>\n",
              "      <td>11</td>\n",
              "    </tr>\n",
              "    <tr>\n",
              "      <th>1</th>\n",
              "      <td>农、林、牧、渔业</td>\n",
              "      <td>A</td>\n",
              "      <td>农业</td>\n",
              "      <td>稻谷种植</td>\n",
              "      <td>种植</td>\n",
              "      <td>稻谷</td>\n",
              "      <td>1</td>\n",
              "      <td>111</td>\n",
              "    </tr>\n",
              "    <tr>\n",
              "      <th>2</th>\n",
              "      <td>农、林、牧、渔业</td>\n",
              "      <td>A</td>\n",
              "      <td>农业</td>\n",
              "      <td>小麦种植</td>\n",
              "      <td>种植</td>\n",
              "      <td>小麦</td>\n",
              "      <td>1</td>\n",
              "      <td>112</td>\n",
              "    </tr>\n",
              "    <tr>\n",
              "      <th>3</th>\n",
              "      <td>农、林、牧、渔业</td>\n",
              "      <td>A</td>\n",
              "      <td>农业</td>\n",
              "      <td>玉米种植</td>\n",
              "      <td>种植</td>\n",
              "      <td>玉米</td>\n",
              "      <td>1</td>\n",
              "      <td>113</td>\n",
              "    </tr>\n",
              "    <tr>\n",
              "      <th>4</th>\n",
              "      <td>农、林、牧、渔业</td>\n",
              "      <td>A</td>\n",
              "      <td>农业</td>\n",
              "      <td>其他谷物种植</td>\n",
              "      <td>种植</td>\n",
              "      <td>其他谷物</td>\n",
              "      <td>1</td>\n",
              "      <td>119</td>\n",
              "    </tr>\n",
              "  </tbody>\n",
              "</table>\n",
              "</div>"
            ],
            "text/plain": [
              "         门类 门类编号  大类      词组  动词    名词  大类编号  子类编号\n",
              "0  农、林、牧、渔业    A  农业    谷物种植  种植    谷物     1    11\n",
              "1  农、林、牧、渔业    A  农业    稻谷种植  种植    稻谷     1   111\n",
              "2  农、林、牧、渔业    A  农业    小麦种植  种植    小麦     1   112\n",
              "3  农、林、牧、渔业    A  农业    玉米种植  种植    玉米     1   113\n",
              "4  农、林、牧、渔业    A  农业  其他谷物种植  种植  其他谷物     1   119"
            ]
          },
          "metadata": {
            "tags": []
          },
          "execution_count": 6
        }
      ]
    },
    {
      "cell_type": "code",
      "metadata": {
        "id": "co17upYKg5XU",
        "colab_type": "code",
        "outputId": "f24f307c-a237-4379-d68e-4ebe874374a9",
        "colab": {
          "base_uri": "https://localhost:8080/"
        }
      },
      "source": [
        "data_z.head()"
      ],
      "execution_count": 0,
      "outputs": [
        {
          "output_type": "execute_result",
          "data": {
            "text/html": [
              "<div>\n",
              "<style scoped>\n",
              "    .dataframe tbody tr th:only-of-type {\n",
              "        vertical-align: middle;\n",
              "    }\n",
              "\n",
              "    .dataframe tbody tr th {\n",
              "        vertical-align: top;\n",
              "    }\n",
              "\n",
              "    .dataframe thead th {\n",
              "        text-align: right;\n",
              "    }\n",
              "</style>\n",
              "<table border=\"1\" class=\"dataframe\">\n",
              "  <thead>\n",
              "    <tr style=\"text-align: right;\">\n",
              "      <th></th>\n",
              "      <th>Unnamed: 0</th>\n",
              "      <th>level</th>\n",
              "      <th>zch</th>\n",
              "      <th>verb</th>\n",
              "      <th>noun</th>\n",
              "      <th>noun_without_bracket</th>\n",
              "      <th>phrase</th>\n",
              "    </tr>\n",
              "  </thead>\n",
              "  <tbody>\n",
              "    <tr>\n",
              "      <th>0</th>\n",
              "      <td>0</td>\n",
              "      <td>0</td>\n",
              "      <td>440704000009296</td>\n",
              "      <td>销售</td>\n",
              "      <td>食品</td>\n",
              "      <td>食品</td>\n",
              "      <td>销售 食品</td>\n",
              "    </tr>\n",
              "    <tr>\n",
              "      <th>1</th>\n",
              "      <td>1</td>\n",
              "      <td>0</td>\n",
              "      <td>440704000009296</td>\n",
              "      <td>销售</td>\n",
              "      <td>日用杂品。</td>\n",
              "      <td>日用杂品</td>\n",
              "      <td>销售 日用杂品</td>\n",
              "    </tr>\n",
              "    <tr>\n",
              "      <th>2</th>\n",
              "      <td>2</td>\n",
              "      <td>1</td>\n",
              "      <td>440782000021799</td>\n",
              "      <td>自产自销</td>\n",
              "      <td>不锈钢</td>\n",
              "      <td>不锈钢</td>\n",
              "      <td>自产自销 不锈钢</td>\n",
              "    </tr>\n",
              "    <tr>\n",
              "      <th>3</th>\n",
              "      <td>3</td>\n",
              "      <td>1</td>\n",
              "      <td>440782000021799</td>\n",
              "      <td>自产自销</td>\n",
              "      <td>铝</td>\n",
              "      <td>铝</td>\n",
              "      <td>自产自销 铝</td>\n",
              "    </tr>\n",
              "    <tr>\n",
              "      <th>4</th>\n",
              "      <td>4</td>\n",
              "      <td>1</td>\n",
              "      <td>440782000021799</td>\n",
              "      <td>自产自销</td>\n",
              "      <td>铁</td>\n",
              "      <td>铁</td>\n",
              "      <td>自产自销 铁</td>\n",
              "    </tr>\n",
              "  </tbody>\n",
              "</table>\n",
              "</div>"
            ],
            "text/plain": [
              "   Unnamed: 0  level              zch  ...   noun noun_without_bracket    phrase\n",
              "0           0      0  440704000009296  ...    食品                   食品     销售 食品 \n",
              "1           1      0  440704000009296  ...  日用杂品。                日用杂品   销售 日用杂品 \n",
              "2           2      1  440782000021799  ...    不锈钢                  不锈钢  自产自销 不锈钢\n",
              "3           3      1  440782000021799  ...      铝                    铝    自产自销 铝\n",
              "4           4      1  440782000021799  ...      铁                    铁    自产自销 铁\n",
              "\n",
              "[5 rows x 7 columns]"
            ]
          },
          "metadata": {
            "tags": []
          },
          "execution_count": 7
        }
      ]
    },
    {
      "cell_type": "code",
      "metadata": {
        "id": "OdS0DdiXnMZK",
        "colab_type": "code",
        "outputId": "cbfd6772-98fe-4326-e2ba-0602e72d7967",
        "colab": {
          "base_uri": "https://localhost:8080/"
        }
      },
      "source": [
        "#停用词\n",
        "def get_custom_stopwords(stop_words_file):\n",
        "    with open(stop_words_file, encoding='gb18030') as f:\n",
        "        stopwords = f.read()\n",
        "    stopwords_list = stopwords.split('\\n')\n",
        "    custom_stopwords_list = [i for i in stopwords_list] #todo: ?\n",
        "    return custom_stopwords_list\n",
        "\n",
        "stop_words_file = '/content/drive/My Drive/Colab Notebooks/stopwordsHIT.txt'\n",
        "stopwords = get_custom_stopwords(stop_words_file)\n",
        "stopwords_set = frozenset(stopwords)\n",
        "stopwords[:10]"
      ],
      "execution_count": 0,
      "outputs": [
        {
          "output_type": "execute_result",
          "data": {
            "text/plain": [
              "['———', '》），', '）÷（１－', '”，', '）、', '＝（', ':', '→', '℃ ', '&']"
            ]
          },
          "metadata": {
            "tags": []
          },
          "execution_count": 8
        }
      ]
    },
    {
      "cell_type": "code",
      "metadata": {
        "id": "0fVH6xipg8EQ",
        "colab_type": "code",
        "outputId": "bac166ce-6695-4071-db65-5eb0bd827759",
        "colab": {
          "base_uri": "https://localhost:8080/",
          "height": 85
        }
      },
      "source": [
        "#分词并处理停用词\n",
        "def chinese_phrase_cut(text):\n",
        "  text = text.replace(r'、', '')\n",
        "  segs = jieba.cut(text)\n",
        "  final = []\n",
        "  for seg in segs:\n",
        "    if seg not in stopwords_set:\n",
        "      final.append(seg)\n",
        "  return ' '.join(final)\n",
        "\n",
        "data['phrase_cutted'] = data['词组'].apply(chinese_phrase_cut)\n",
        "data_z['phrase_cutted'] = data_z['phrase'].apply(lambda x: chinese_phrase_cut(str(x)))"
      ],
      "execution_count": 0,
      "outputs": [
        {
          "output_type": "stream",
          "text": [
            "Building prefix dict from the default dictionary ...\n",
            "Dumping model to file cache /tmp/jieba.cache\n",
            "Loading model cost 0.923 seconds.\n",
            "Prefix dict has been built succesfully.\n"
          ],
          "name": "stderr"
        }
      ]
    },
    {
      "cell_type": "code",
      "metadata": {
        "id": "XHxKir5diPoq",
        "colab_type": "code",
        "outputId": "12f517c1-245e-416d-8d6e-6dec9bb8600b",
        "colab": {
          "base_uri": "https://localhost:8080/"
        }
      },
      "source": [
        "data.head(20)"
      ],
      "execution_count": 0,
      "outputs": [
        {
          "output_type": "execute_result",
          "data": {
            "text/html": [
              "<div>\n",
              "<style scoped>\n",
              "    .dataframe tbody tr th:only-of-type {\n",
              "        vertical-align: middle;\n",
              "    }\n",
              "\n",
              "    .dataframe tbody tr th {\n",
              "        vertical-align: top;\n",
              "    }\n",
              "\n",
              "    .dataframe thead th {\n",
              "        text-align: right;\n",
              "    }\n",
              "</style>\n",
              "<table border=\"1\" class=\"dataframe\">\n",
              "  <thead>\n",
              "    <tr style=\"text-align: right;\">\n",
              "      <th></th>\n",
              "      <th>门类</th>\n",
              "      <th>门类编号</th>\n",
              "      <th>大类</th>\n",
              "      <th>词组</th>\n",
              "      <th>动词</th>\n",
              "      <th>名词</th>\n",
              "      <th>大类编号</th>\n",
              "      <th>子类编号</th>\n",
              "      <th>phrase_cutted</th>\n",
              "    </tr>\n",
              "  </thead>\n",
              "  <tbody>\n",
              "    <tr>\n",
              "      <th>0</th>\n",
              "      <td>农、林、牧、渔业</td>\n",
              "      <td>A</td>\n",
              "      <td>农业</td>\n",
              "      <td>谷物种植</td>\n",
              "      <td>种植</td>\n",
              "      <td>谷物</td>\n",
              "      <td>1</td>\n",
              "      <td>11</td>\n",
              "      <td>谷物 种植</td>\n",
              "    </tr>\n",
              "    <tr>\n",
              "      <th>1</th>\n",
              "      <td>农、林、牧、渔业</td>\n",
              "      <td>A</td>\n",
              "      <td>农业</td>\n",
              "      <td>稻谷种植</td>\n",
              "      <td>种植</td>\n",
              "      <td>稻谷</td>\n",
              "      <td>1</td>\n",
              "      <td>111</td>\n",
              "      <td>稻谷 种植</td>\n",
              "    </tr>\n",
              "    <tr>\n",
              "      <th>2</th>\n",
              "      <td>农、林、牧、渔业</td>\n",
              "      <td>A</td>\n",
              "      <td>农业</td>\n",
              "      <td>小麦种植</td>\n",
              "      <td>种植</td>\n",
              "      <td>小麦</td>\n",
              "      <td>1</td>\n",
              "      <td>112</td>\n",
              "      <td>小麦 种植</td>\n",
              "    </tr>\n",
              "    <tr>\n",
              "      <th>3</th>\n",
              "      <td>农、林、牧、渔业</td>\n",
              "      <td>A</td>\n",
              "      <td>农业</td>\n",
              "      <td>玉米种植</td>\n",
              "      <td>种植</td>\n",
              "      <td>玉米</td>\n",
              "      <td>1</td>\n",
              "      <td>113</td>\n",
              "      <td>玉米 种植</td>\n",
              "    </tr>\n",
              "    <tr>\n",
              "      <th>4</th>\n",
              "      <td>农、林、牧、渔业</td>\n",
              "      <td>A</td>\n",
              "      <td>农业</td>\n",
              "      <td>其他谷物种植</td>\n",
              "      <td>种植</td>\n",
              "      <td>其他谷物</td>\n",
              "      <td>1</td>\n",
              "      <td>119</td>\n",
              "      <td>谷物 种植</td>\n",
              "    </tr>\n",
              "    <tr>\n",
              "      <th>5</th>\n",
              "      <td>农、林、牧、渔业</td>\n",
              "      <td>A</td>\n",
              "      <td>农业</td>\n",
              "      <td>豆类、油料和薯类种植</td>\n",
              "      <td>种植</td>\n",
              "      <td>豆类</td>\n",
              "      <td>1</td>\n",
              "      <td>12</td>\n",
              "      <td>豆类 油料 薯类 种植</td>\n",
              "    </tr>\n",
              "    <tr>\n",
              "      <th>6</th>\n",
              "      <td>农、林、牧、渔业</td>\n",
              "      <td>A</td>\n",
              "      <td>农业</td>\n",
              "      <td>豆类种植</td>\n",
              "      <td>种植</td>\n",
              "      <td>豆类</td>\n",
              "      <td>1</td>\n",
              "      <td>121</td>\n",
              "      <td>豆类 种植</td>\n",
              "    </tr>\n",
              "    <tr>\n",
              "      <th>7</th>\n",
              "      <td>农、林、牧、渔业</td>\n",
              "      <td>A</td>\n",
              "      <td>农业</td>\n",
              "      <td>油料种植</td>\n",
              "      <td>种植</td>\n",
              "      <td>油料</td>\n",
              "      <td>1</td>\n",
              "      <td>122</td>\n",
              "      <td>油料 种植</td>\n",
              "    </tr>\n",
              "    <tr>\n",
              "      <th>8</th>\n",
              "      <td>农、林、牧、渔业</td>\n",
              "      <td>A</td>\n",
              "      <td>农业</td>\n",
              "      <td>薯类种植</td>\n",
              "      <td>种植</td>\n",
              "      <td>薯类</td>\n",
              "      <td>1</td>\n",
              "      <td>123</td>\n",
              "      <td>薯类 种植</td>\n",
              "    </tr>\n",
              "    <tr>\n",
              "      <th>9</th>\n",
              "      <td>农、林、牧、渔业</td>\n",
              "      <td>A</td>\n",
              "      <td>农业</td>\n",
              "      <td>棉、麻、糖、烟草种植</td>\n",
              "      <td>种植</td>\n",
              "      <td>棉、麻、糖、烟草</td>\n",
              "      <td>1</td>\n",
              "      <td>13</td>\n",
              "      <td>棉 麻糖 烟草 种植</td>\n",
              "    </tr>\n",
              "    <tr>\n",
              "      <th>10</th>\n",
              "      <td>农、林、牧、渔业</td>\n",
              "      <td>A</td>\n",
              "      <td>农业</td>\n",
              "      <td>棉花种植</td>\n",
              "      <td>种植</td>\n",
              "      <td>棉花</td>\n",
              "      <td>1</td>\n",
              "      <td>131</td>\n",
              "      <td>棉花 种植</td>\n",
              "    </tr>\n",
              "    <tr>\n",
              "      <th>11</th>\n",
              "      <td>农、林、牧、渔业</td>\n",
              "      <td>A</td>\n",
              "      <td>农业</td>\n",
              "      <td>麻类种植</td>\n",
              "      <td>种植</td>\n",
              "      <td>麻类</td>\n",
              "      <td>1</td>\n",
              "      <td>132</td>\n",
              "      <td>麻类 种植</td>\n",
              "    </tr>\n",
              "    <tr>\n",
              "      <th>12</th>\n",
              "      <td>农、林、牧、渔业</td>\n",
              "      <td>A</td>\n",
              "      <td>农业</td>\n",
              "      <td>糖料种植</td>\n",
              "      <td>种植</td>\n",
              "      <td>糖料</td>\n",
              "      <td>1</td>\n",
              "      <td>133</td>\n",
              "      <td>糖料 种植</td>\n",
              "    </tr>\n",
              "    <tr>\n",
              "      <th>13</th>\n",
              "      <td>农、林、牧、渔业</td>\n",
              "      <td>A</td>\n",
              "      <td>农业</td>\n",
              "      <td>烟草种植</td>\n",
              "      <td>种植</td>\n",
              "      <td>烟草</td>\n",
              "      <td>1</td>\n",
              "      <td>134</td>\n",
              "      <td>烟草 种植</td>\n",
              "    </tr>\n",
              "    <tr>\n",
              "      <th>14</th>\n",
              "      <td>农、林、牧、渔业</td>\n",
              "      <td>A</td>\n",
              "      <td>农业</td>\n",
              "      <td>蔬菜、食用菌及园艺作物种植</td>\n",
              "      <td>种植</td>\n",
              "      <td>蔬菜、食用菌及园艺作物</td>\n",
              "      <td>1</td>\n",
              "      <td>14</td>\n",
              "      <td>蔬菜 食用菌 园艺作物 种植</td>\n",
              "    </tr>\n",
              "    <tr>\n",
              "      <th>15</th>\n",
              "      <td>农、林、牧、渔业</td>\n",
              "      <td>A</td>\n",
              "      <td>农业</td>\n",
              "      <td>蔬菜种植</td>\n",
              "      <td>种植</td>\n",
              "      <td>蔬菜</td>\n",
              "      <td>1</td>\n",
              "      <td>141</td>\n",
              "      <td>蔬菜 种植</td>\n",
              "    </tr>\n",
              "    <tr>\n",
              "      <th>16</th>\n",
              "      <td>农、林、牧、渔业</td>\n",
              "      <td>A</td>\n",
              "      <td>农业</td>\n",
              "      <td>食用菌种植</td>\n",
              "      <td>种植</td>\n",
              "      <td>食用菌</td>\n",
              "      <td>1</td>\n",
              "      <td>142</td>\n",
              "      <td>食用菌 种植</td>\n",
              "    </tr>\n",
              "    <tr>\n",
              "      <th>17</th>\n",
              "      <td>农、林、牧、渔业</td>\n",
              "      <td>A</td>\n",
              "      <td>农业</td>\n",
              "      <td>花卉种植</td>\n",
              "      <td>种植</td>\n",
              "      <td>花卉</td>\n",
              "      <td>1</td>\n",
              "      <td>143</td>\n",
              "      <td>花卉 种植</td>\n",
              "    </tr>\n",
              "    <tr>\n",
              "      <th>18</th>\n",
              "      <td>农、林、牧、渔业</td>\n",
              "      <td>A</td>\n",
              "      <td>农业</td>\n",
              "      <td>其他园艺作物种植</td>\n",
              "      <td>种植</td>\n",
              "      <td>其他园艺作物</td>\n",
              "      <td>1</td>\n",
              "      <td>149</td>\n",
              "      <td>园艺作物 种植</td>\n",
              "    </tr>\n",
              "    <tr>\n",
              "      <th>19</th>\n",
              "      <td>农、林、牧、渔业</td>\n",
              "      <td>A</td>\n",
              "      <td>农业</td>\n",
              "      <td>水果种植</td>\n",
              "      <td>种植</td>\n",
              "      <td>水果</td>\n",
              "      <td>1</td>\n",
              "      <td>15</td>\n",
              "      <td>水果 种植</td>\n",
              "    </tr>\n",
              "  </tbody>\n",
              "</table>\n",
              "</div>"
            ],
            "text/plain": [
              "          门类 门类编号  大类             词组  ...           名词 大类编号  子类编号   phrase_cutted\n",
              "0   农、林、牧、渔业    A  农业           谷物种植  ...           谷物    1    11           谷物 种植\n",
              "1   农、林、牧、渔业    A  农业           稻谷种植  ...           稻谷    1   111           稻谷 种植\n",
              "2   农、林、牧、渔业    A  农业           小麦种植  ...           小麦    1   112           小麦 种植\n",
              "3   农、林、牧、渔业    A  农业           玉米种植  ...           玉米    1   113           玉米 种植\n",
              "4   农、林、牧、渔业    A  农业         其他谷物种植  ...         其他谷物    1   119           谷物 种植\n",
              "5   农、林、牧、渔业    A  农业     豆类、油料和薯类种植  ...           豆类    1    12     豆类 油料 薯类 种植\n",
              "6   农、林、牧、渔业    A  农业           豆类种植  ...           豆类    1   121           豆类 种植\n",
              "7   农、林、牧、渔业    A  农业           油料种植  ...           油料    1   122           油料 种植\n",
              "8   农、林、牧、渔业    A  农业           薯类种植  ...           薯类    1   123           薯类 种植\n",
              "9   农、林、牧、渔业    A  农业     棉、麻、糖、烟草种植  ...     棉、麻、糖、烟草    1    13      棉 麻糖 烟草 种植\n",
              "10  农、林、牧、渔业    A  农业           棉花种植  ...           棉花    1   131           棉花 种植\n",
              "11  农、林、牧、渔业    A  农业           麻类种植  ...           麻类    1   132           麻类 种植\n",
              "12  农、林、牧、渔业    A  农业           糖料种植  ...           糖料    1   133           糖料 种植\n",
              "13  农、林、牧、渔业    A  农业           烟草种植  ...           烟草    1   134           烟草 种植\n",
              "14  农、林、牧、渔业    A  农业  蔬菜、食用菌及园艺作物种植  ...  蔬菜、食用菌及园艺作物    1    14  蔬菜 食用菌 园艺作物 种植\n",
              "15  农、林、牧、渔业    A  农业           蔬菜种植  ...           蔬菜    1   141           蔬菜 种植\n",
              "16  农、林、牧、渔业    A  农业          食用菌种植  ...          食用菌    1   142          食用菌 种植\n",
              "17  农、林、牧、渔业    A  农业           花卉种植  ...           花卉    1   143           花卉 种植\n",
              "18  农、林、牧、渔业    A  农业       其他园艺作物种植  ...       其他园艺作物    1   149         园艺作物 种植\n",
              "19  农、林、牧、渔业    A  农业           水果种植  ...           水果    1    15           水果 种植\n",
              "\n",
              "[20 rows x 9 columns]"
            ]
          },
          "metadata": {
            "tags": []
          },
          "execution_count": 10
        }
      ]
    },
    {
      "cell_type": "code",
      "metadata": {
        "id": "0xvEiy7ciZyc",
        "colab_type": "code",
        "colab": {}
      },
      "source": [
        "#构建X\n",
        "A = data[['phrase_cutted']]\n",
        "B = data_z[['phrase_cutted']]\n",
        "X = pd.concat([A, B], axis=0)\n",
        "X = X.reset_index(drop=True)\n",
        "#标签y\n",
        "from sklearn.preprocessing import LabelEncoder\n",
        "encoder = LabelEncoder()\n",
        "y = encoder.fit_transform(data['大类'])\n",
        "data['label'] = y"
      ],
      "execution_count": 0,
      "outputs": []
    },
    {
      "cell_type": "code",
      "metadata": {
        "id": "7-NwHLT7kTqy",
        "colab_type": "code",
        "colab": {}
      },
      "source": [
        "#保存txt\n",
        "X.to_csv('/content/drive/My Drive/Colab Notebooks/phrase_cutted.txt', header=False, index=False)"
      ],
      "execution_count": 0,
      "outputs": []
    },
    {
      "cell_type": "code",
      "metadata": {
        "id": "0Xypg38Ykb_Y",
        "colab_type": "code",
        "outputId": "a3d583aa-ecec-4967-9b24-e1f67e7465f3",
        "colab": {
          "base_uri": "https://localhost:8080/"
        }
      },
      "source": [
        "X.head()"
      ],
      "execution_count": 0,
      "outputs": [
        {
          "output_type": "execute_result",
          "data": {
            "text/html": [
              "<div>\n",
              "<style scoped>\n",
              "    .dataframe tbody tr th:only-of-type {\n",
              "        vertical-align: middle;\n",
              "    }\n",
              "\n",
              "    .dataframe tbody tr th {\n",
              "        vertical-align: top;\n",
              "    }\n",
              "\n",
              "    .dataframe thead th {\n",
              "        text-align: right;\n",
              "    }\n",
              "</style>\n",
              "<table border=\"1\" class=\"dataframe\">\n",
              "  <thead>\n",
              "    <tr style=\"text-align: right;\">\n",
              "      <th></th>\n",
              "      <th>phrase_cutted</th>\n",
              "    </tr>\n",
              "  </thead>\n",
              "  <tbody>\n",
              "    <tr>\n",
              "      <th>0</th>\n",
              "      <td>谷物 种植</td>\n",
              "    </tr>\n",
              "    <tr>\n",
              "      <th>1</th>\n",
              "      <td>稻谷 种植</td>\n",
              "    </tr>\n",
              "    <tr>\n",
              "      <th>2</th>\n",
              "      <td>小麦 种植</td>\n",
              "    </tr>\n",
              "    <tr>\n",
              "      <th>3</th>\n",
              "      <td>玉米 种植</td>\n",
              "    </tr>\n",
              "    <tr>\n",
              "      <th>4</th>\n",
              "      <td>谷物 种植</td>\n",
              "    </tr>\n",
              "  </tbody>\n",
              "</table>\n",
              "</div>"
            ],
            "text/plain": [
              "  phrase_cutted\n",
              "0         谷物 种植\n",
              "1         稻谷 种植\n",
              "2         小麦 种植\n",
              "3         玉米 种植\n",
              "4         谷物 种植"
            ]
          },
          "metadata": {
            "tags": []
          },
          "execution_count": 13
        }
      ]
    },
    {
      "cell_type": "code",
      "metadata": {
        "id": "0yjyLP7RkiwQ",
        "colab_type": "code",
        "outputId": "2a2d454c-bbe9-4564-eb20-4acb08a18cf1",
        "colab": {
          "base_uri": "https://localhost:8080/",
          "height": 71
        }
      },
      "source": [
        "#训练word2vec\n",
        "dim = 300\n",
        "def train_word2vec():\n",
        "  inp = '/content/drive/My Drive/Colab Notebooks/phrase_cutted.txt'\n",
        "  model = Word2Vec(LineSentence(inp), size=dim, window=1, min_count=5, )\n",
        "  model.save('/content/drive/My Drive/Colab Notebooks/ph_cutted.model')\n",
        "  model.wv.save_word2vec_format('/content/drive/My Drive/Colab Notebooks/ph_cutted.vector', binary=False)\n",
        "train_word2vec()"
      ],
      "execution_count": 0,
      "outputs": [
        {
          "output_type": "stream",
          "text": [
            "/usr/local/lib/python3.6/dist-packages/smart_open/smart_open_lib.py:398: UserWarning: This function is deprecated, use smart_open.open instead. See the migration notes for details: https://github.com/RaRe-Technologies/smart_open/blob/master/README.rst#migrating-to-the-new-open-function\n",
            "  'See the migration notes for details: %s' % _MIGRATION_NOTES_URL\n"
          ],
          "name": "stderr"
        }
      ]
    },
    {
      "cell_type": "code",
      "metadata": {
        "id": "EeNP9Q5nysvw",
        "colab_type": "code",
        "outputId": "e0c8df44-3149-474f-a2e4-491513d89df5",
        "colab": {
          "base_uri": "https://localhost:8080/"
        }
      },
      "source": [
        "#测试word2vec\n",
        "# model = Word2Vec.load('/content/drive/My Drive/Colab Notebooks/ph_cutted.model')\n",
        "model = Word2Vec.load('/content/drive/My Drive/Colab Notebooks/baike_26g_news_13g_novel_229g.model')\n",
        "# model = KeyedVectors.load_word2vec_format('/content/drive/My Drive/Colab Notebooks/zh.vec')\n",
        "testwords = ['种植', '零售', '销售' ]\n",
        "for x in testwords:\n",
        "  res = model.most_similar(x)\n",
        "  print(x)\n",
        "  print(res)"
      ],
      "execution_count": 0,
      "outputs": [
        {
          "output_type": "stream",
          "text": [
            "/usr/local/lib/python3.6/dist-packages/smart_open/smart_open_lib.py:398: UserWarning: This function is deprecated, use smart_open.open instead. See the migration notes for details: https://github.com/RaRe-Technologies/smart_open/blob/master/README.rst#migrating-to-the-new-open-function\n",
            "  'See the migration notes for details: %s' % _MIGRATION_NOTES_URL\n"
          ],
          "name": "stderr"
        }
      ]
    },
    {
      "cell_type": "code",
      "metadata": {
        "id": "utomlfE2YmZF",
        "colab_type": "code",
        "colab": {}
      },
      "source": [
        "#合并关键词向量\n",
        "def merge_vec(lst, dim):\n",
        "  vec = np.zeros(dim)\n",
        "  if not lst:\n",
        "    return vec\n",
        "  count = 0\n",
        "  for w in lst:\n",
        "    try:\n",
        "      vec += model[w]\n",
        "      count += 1\n",
        "    except KeyError:\n",
        "      continue\n",
        "  vec /= count\n",
        "  return vec\n",
        "\n",
        "X_vec = X['phrase_cutted'].apply(lambda x: merge_vec(x.split(), dim))\n",
        "X_vec = pd.DataFrame(X_vec.values.tolist())\n",
        "X_vec = X_vec.replace(np.nan, 0)"
      ],
      "execution_count": 0,
      "outputs": []
    },
    {
      "cell_type": "code",
      "metadata": {
        "id": "ST8WrexPKAQ-",
        "colab_type": "code",
        "colab": {}
      },
      "source": [
        "#正则化\n",
        "from sklearn.preprocessing import MinMaxScaler\n",
        "X_vec = pd.DataFrame(MinMaxScaler().fit_transform(X_vec))"
      ],
      "execution_count": 0,
      "outputs": []
    },
    {
      "cell_type": "code",
      "metadata": {
        "id": "xLrCS18xDa3K",
        "colab_type": "code",
        "colab": {}
      },
      "source": [
        "#划分训练集和测试集\n",
        "from sklearn.model_selection import train_test_split\n",
        "X_t = X_vec.head(len(A))\n",
        "Z = X_vec.tail(len(B))\n",
        "X_train, X_test, y_train, y_test = train_test_split(X_t, y, random_state=1)\n",
        "print(X_train.shape)\n",
        "print(X_test.shape)\n",
        "print(Z.shape)"
      ],
      "execution_count": 0,
      "outputs": []
    },
    {
      "cell_type": "code",
      "metadata": {
        "id": "kstD56IwFeSN",
        "colab_type": "code",
        "colab": {}
      },
      "source": [
        "#贝叶斯模型\n",
        "from sklearn.naive_bayes import MultinomialNB\n",
        "nb = MultinomialNB()\n",
        "#决策树\n",
        "from sklearn.tree import DecisionTreeClassifier\n",
        "clf = DecisionTreeClassifier(random_state=1 )\n",
        "#随机森林\n",
        "from sklearn.ensemble import RandomForestClassifier\n",
        "rfc = RandomForestClassifier(n_estimators=500, criterion='gini', random_state=1, )\n",
        "#SVM.LinearSVC\n",
        "from sklearn.svm import LinearSVC\n",
        "svc = LinearSVC()\n",
        "#KNN\n",
        "from sklearn.neighbors import KNeighborsClassifier\n",
        "knn = KNeighborsClassifier()\n",
        "#XGboost\n",
        "from sklearn.ensemble import GradientBoostingClassifier\n",
        "xgb = GradientBoostingClassifier()"
      ],
      "execution_count": 0,
      "outputs": []
    },
    {
      "cell_type": "code",
      "metadata": {
        "id": "d_MjGZz7ID0P",
        "colab_type": "code",
        "colab": {}
      },
      "source": [
        "#训练分数\n",
        "from sklearn import metrics\n",
        "m = svc\n",
        "m = m.fit(X_train, y_train)\n",
        "y_pred = m.predict(X_test)\n",
        "#训练集分数\n",
        "print(m.score(X_train, y_train))\n",
        "#测试准确率\n",
        "print(metrics.accuracy_score(y_test, y_pred))"
      ],
      "execution_count": 0,
      "outputs": []
    },
    {
      "cell_type": "code",
      "metadata": {
        "id": "kzxZtneQI_PI",
        "colab_type": "code",
        "colab": {}
      },
      "source": [
        "#新数据预测结果\n",
        "Z_pred = m.predict(Z)\n",
        "data_z['predit'] = encoder.inverse_transform(Z_pred)\n",
        "data_z.head(50)\n",
        "# data_z.to_excel('/content/drive/My Drive/Colab Notebooks/Z_pre_v2.xlsx')"
      ],
      "execution_count": 0,
      "outputs": []
    }
  ]
}
>>>>>>> a32a2e51e8bf1cafeaab2623ceb7e46d8ddfcac3
